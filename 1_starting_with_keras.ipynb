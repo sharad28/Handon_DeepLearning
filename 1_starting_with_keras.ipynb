{
  "nbformat": 4,
  "nbformat_minor": 0,
  "metadata": {
    "colab": {
      "name": "1. starting with keras",
      "provenance": [],
      "collapsed_sections": [],
      "authorship_tag": "ABX9TyO6W3DNqTIcyEWWEcc85bP9",
      "include_colab_link": true
    },
    "kernelspec": {
      "name": "python3",
      "display_name": "Python 3"
    },
    "language_info": {
      "name": "python"
    }
  },
  "cells": [
    {
      "cell_type": "markdown",
      "metadata": {
        "id": "view-in-github",
        "colab_type": "text"
      },
      "source": [
        "<a href=\"https://colab.research.google.com/github/sharad28/Handon_DeepLearning/blob/main/1_starting_with_keras.ipynb\" target=\"_parent\"><img src=\"https://colab.research.google.com/assets/colab-badge.svg\" alt=\"Open In Colab\"/></a>"
      ]
    },
    {
      "cell_type": "code",
      "execution_count": 4,
      "metadata": {
        "colab": {
          "base_uri": "https://localhost:8080/"
        },
        "id": "yTJKzlvykKD-",
        "outputId": "491c0e86-a51c-400a-8108-edbdbd970003"
      },
      "outputs": [
        {
          "output_type": "stream",
          "name": "stdout",
          "text": [
            "2.8.0\n",
            "2.8.0\n"
          ]
        }
      ],
      "source": [
        "import tensorflow as tf\n",
        "from tensorflow import keras\n",
        "print(tf.__version__)\n",
        "print(keras.__version__)"
      ]
    },
    {
      "cell_type": "code",
      "source": [
        "fashion_mnist = keras.datasets.fashion_mnist\n",
        "(x_train_full,y_train_full), (x_test,y_test) = fashion_mnist.load_data()"
      ],
      "metadata": {
        "id": "VCg0GvwwkiIe"
      },
      "execution_count": 10,
      "outputs": []
    },
    {
      "cell_type": "code",
      "source": [
        "x_train_full.shape"
      ],
      "metadata": {
        "colab": {
          "base_uri": "https://localhost:8080/"
        },
        "id": "77Tb53QXlg3f",
        "outputId": "7b6f3607-d13e-4e32-e71b-7ee479fa9c01"
      },
      "execution_count": 11,
      "outputs": [
        {
          "output_type": "execute_result",
          "data": {
            "text/plain": [
              "(60000, 28, 28)"
            ]
          },
          "metadata": {},
          "execution_count": 11
        }
      ]
    },
    {
      "cell_type": "code",
      "source": [
        "x_train_full.dtype"
      ],
      "metadata": {
        "colab": {
          "base_uri": "https://localhost:8080/"
        },
        "id": "UUnESGpaljcY",
        "outputId": "038f18bd-c18b-4a50-999d-f3398997fc19"
      },
      "execution_count": 12,
      "outputs": [
        {
          "output_type": "execute_result",
          "data": {
            "text/plain": [
              "dtype('uint8')"
            ]
          },
          "metadata": {},
          "execution_count": 12
        }
      ]
    },
    {
      "cell_type": "code",
      "source": [
        "x_valid, x_train = x_train_full[:5000]/255.0, x_train_full[5000:]/255.0\n",
        "y_valid, y_train = y_train_full[:5000], y_train_full[5000:]"
      ],
      "metadata": {
        "id": "EtWI5UCElsTq"
      },
      "execution_count": 13,
      "outputs": []
    },
    {
      "cell_type": "code",
      "source": [
        "class_names=['T-shirt/top','Trouser','Pullover','Dress','Coat','Sandal','Shirt','Sneaker','Bag','Ankle boot']"
      ],
      "metadata": {
        "id": "G4po7Bs_oXQj"
      },
      "execution_count": 22,
      "outputs": []
    },
    {
      "cell_type": "code",
      "source": [
        "class_names[y_train[0]]"
      ],
      "metadata": {
        "colab": {
          "base_uri": "https://localhost:8080/",
          "height": 36
        },
        "id": "JH9LSbQxqNvZ",
        "outputId": "32686e6e-6578-41a8-c21c-6e3829781641"
      },
      "execution_count": 23,
      "outputs": [
        {
          "output_type": "execute_result",
          "data": {
            "text/plain": [
              "'Coat'"
            ],
            "application/vnd.google.colaboratory.intrinsic+json": {
              "type": "string"
            }
          },
          "metadata": {},
          "execution_count": 23
        }
      ]
    },
    {
      "cell_type": "code",
      "source": [
        "import matplotlib.pyplot as plt\n",
        "\n",
        "plt.imshow(x_train[0],cmap='binary')"
      ],
      "metadata": {
        "colab": {
          "base_uri": "https://localhost:8080/",
          "height": 282
        },
        "id": "_-SdeX6goFES",
        "outputId": "48d4947f-32ca-4950-8fc8-efa440037a7f"
      },
      "execution_count": 24,
      "outputs": [
        {
          "output_type": "execute_result",
          "data": {
            "text/plain": [
              "<matplotlib.image.AxesImage at 0x7faacc3228d0>"
            ]
          },
          "metadata": {},
          "execution_count": 24
        },
        {
          "output_type": "display_data",
          "data": {
            "text/plain": [
              "<Figure size 432x288 with 1 Axes>"
            ],
            "image/png": "[encoded data removed]"
          },
          "metadata": {
            "needs_background": "light"
          }
        }
      ]
    },
    {
      "cell_type": "markdown",
      "source": [
        "##Creating the model using the Sequential API"
      ],
      "metadata": {
        "id": "HTTt_1eIqlx5"
      }
    },
    {
      "cell_type": "markdown",
      "source": [
        "> simplest kind of keras model for neural networks that are just composed of a single stack of layers connected sequentially. This is called the **Sequential API**.\n",
        " \n",
        "\n",
        "\n"
      ],
      "metadata": {
        "id": "eC_rJnyQs3n8"
      }
    },
    {
      "cell_type": "code",
      "source": [
        "model = keras.models.Sequential()\n",
        "#convert each input image into 1D array: if receive input data X, it compute x.reshape(-1,1)\n",
        "#see below for x.reshape(-1,1) operation\n",
        "model.add(keras.layers.Flatten(input_shape=[28,28]))\n",
        "model.add(keras.layers.Dense(300,activation='relu'))\n",
        "model.add(keras.layers.Dense(100,activation='relu'))\n",
        "model.add(keras.layers.Dense(10,activation='softmax'))"
      ],
      "metadata": {
        "id": "jIL38IyaqSyd"
      },
      "execution_count": 25,
      "outputs": []
    },
    {
      "cell_type": "code",
      "source": [
        "print(x_train[0].shape)\n",
        "x_train[0].reshape(-1,1).shape"
      ],
      "metadata": {
        "colab": {
          "base_uri": "https://localhost:8080/"
        },
        "id": "PbhEKtCmrmyI",
        "outputId": "2b9691ba-d58c-46d5-c460-8b8872bbce4e"
      },
      "execution_count": 38,
      "outputs": [
        {
          "output_type": "stream",
          "name": "stdout",
          "text": [
            "(28, 28)\n"
          ]
        },
        {
          "output_type": "execute_result",
          "data": {
            "text/plain": [
              "(784, 1)"
            ]
          },
          "metadata": {},
          "execution_count": 38
        }
      ]
    },
    {
      "cell_type": "markdown",
      "source": [
        "same can be acheived by passing in list"
      ],
      "metadata": {
        "id": "QqlhwzwRwKGE"
      }
    },
    {
      "cell_type": "code",
      "source": [
        "model = keras.models.Sequential(\n",
        "    [\n",
        "     keras.layers.Flatten(input_shape=[28,28]),\n",
        "     keras.layers.Dense(300,activation='relu'),\n",
        "     keras.layers.Dense(100,activation='relu'),\n",
        "     keras.layers.Dense(10,activation='softmax'),\n",
        "     \n",
        "    ]\n",
        ")"
      ],
      "metadata": {
        "id": "xgFZzVc5wRu1"
      },
      "execution_count": 39,
      "outputs": []
    },
    {
      "cell_type": "code",
      "source": [
        "model.summary()"
      ],
      "metadata": {
        "colab": {
          "base_uri": "https://localhost:8080/"
        },
        "id": "GnpYkWZerZho",
        "outputId": "25db40a1-8516-494b-cbe2-e3bab483e928"
      },
      "execution_count": 40,
      "outputs": [
        {
          "output_type": "stream",
          "name": "stdout",
          "text": [
            "Model: \"sequential_1\"\n",
            "_________________________________________________________________\n",
            " Layer (type)                Output Shape              Param #   \n",
            "=================================================================\n",
            " flatten_1 (Flatten)         (None, 784)               0         \n",
            "                                                                 \n",
            " dense_3 (Dense)             (None, 300)               235500    \n",
            "                                                                 \n",
            " dense_4 (Dense)             (None, 100)               30100     \n",
            "                                                                 \n",
            " dense_5 (Dense)             (None, 10)                1010      \n",
            "                                                                 \n",
            "=================================================================\n",
            "Total params: 266,610\n",
            "Trainable params: 266,610\n",
            "Non-trainable params: 0\n",
            "_________________________________________________________________\n"
          ]
        }
      ]
    },
    {
      "cell_type": "markdown",
      "source": [
        "No. of parameters are calculated as follows:\n",
        "\n",
        "\n",
        "1.   first hidden layer has 784 x 300 connection weights, plus 300 bias terms (784x300+300=235500)\n",
        "2.   second hidden layer has 300 x 100 connection weights, plus 100 bias terms (300x100+100=30100)\n",
        "3.   third hidden layer has 100x10 connection weights, plus 10 bias terms (100x10+10=1010) \n",
        "\n"
      ],
      "metadata": {
        "id": "GT_vTB1MxuOM"
      }
    },
    {
      "cell_type": "code",
      "source": [
        "# model layers can be easily access\n",
        "model.layers"
      ],
      "metadata": {
        "colab": {
          "base_uri": "https://localhost:8080/"
        },
        "id": "p5OkHOeHvKVg",
        "outputId": "11339067-f9f0-4b21-9dd8-a09f84390de9"
      },
      "execution_count": 42,
      "outputs": [
        {
          "output_type": "execute_result",
          "data": {
            "text/plain": [
              "[<keras.layers.core.flatten.Flatten at 0x7faac82c29d0>,\n",
              " <keras.layers.core.dense.Dense at 0x7faacc13dad0>,\n",
              " <keras.layers.core.dense.Dense at 0x7faacc197d90>,\n",
              " <keras.layers.core.dense.Dense at 0x7faacc0eb8d0>]"
            ]
          },
          "metadata": {},
          "execution_count": 42
        }
      ]
    },
    {
      "cell_type": "code",
      "source": [
        "hidden1 = model.layers[1]\n",
        "hidden1.name"
      ],
      "metadata": {
        "colab": {
          "base_uri": "https://localhost:8080/",
          "height": 36
        },
        "id": "ytXjS5GAzJWb",
        "outputId": "0ebee673-9bac-448b-d5f8-585f3df4f993"
      },
      "execution_count": 44,
      "outputs": [
        {
          "output_type": "execute_result",
          "data": {
            "text/plain": [
              "'dense_3'"
            ],
            "application/vnd.google.colaboratory.intrinsic+json": {
              "type": "string"
            }
          },
          "metadata": {},
          "execution_count": 44
        }
      ]
    },
    {
      "cell_type": "code",
      "source": [
        "weights, biases = hidden1.get_weights()\n",
        "weights"
      ],
      "metadata": {
        "colab": {
          "base_uri": "https://localhost:8080/"
        },
        "id": "04-f4Ml5zTg2",
        "outputId": "ac6da15a-730d-4033-c248-207e43a9ce93"
      },
      "execution_count": 47,
      "outputs": [
        {
          "output_type": "execute_result",
          "data": {
            "text/plain": [
              "array([[ 0.04295737,  0.02101772,  0.05274901, ..., -0.03915269,\n",
              "        -0.00829954, -0.03148969],\n",
              "       [-0.0336108 , -0.06414886, -0.0685553 , ..., -0.06559546,\n",
              "         0.05819616, -0.04486308],\n",
              "       [-0.04307246,  0.0254877 , -0.03017638, ...,  0.05342619,\n",
              "         0.02773432,  0.06404303],\n",
              "       ...,\n",
              "       [ 0.05786645, -0.05571006,  0.0482626 , ...,  0.05127037,\n",
              "        -0.04083202,  0.06633456],\n",
              "       [-0.04206158,  0.02893569, -0.06185933, ...,  0.04255515,\n",
              "        -0.04377949,  0.01729473],\n",
              "       [ 0.03112947,  0.04932588, -0.04815742, ...,  0.00667749,\n",
              "        -0.01217585, -0.05668362]], dtype=float32)"
            ]
          },
          "metadata": {},
          "execution_count": 47
        }
      ]
    },
    {
      "cell_type": "code",
      "source": [
        "weights.shape"
      ],
      "metadata": {
        "colab": {
          "base_uri": "https://localhost:8080/"
        },
        "id": "wJzsiXoXzbIR",
        "outputId": "88b76f11-1dc2-4c9f-8e77-8baead030f42"
      },
      "execution_count": 48,
      "outputs": [
        {
          "output_type": "execute_result",
          "data": {
            "text/plain": [
              "(784, 300)"
            ]
          },
          "metadata": {},
          "execution_count": 48
        }
      ]
    },
    {
      "cell_type": "code",
      "source": [
        "biases"
      ],
      "metadata": {
        "colab": {
          "base_uri": "https://localhost:8080/"
        },
        "id": "DMQvUYrcz011",
        "outputId": "bc6f0541-3b94-43f6-fd4c-1fd898b4cadf"
      },
      "execution_count": 49,
      "outputs": [
        {
          "output_type": "execute_result",
          "data": {
            "text/plain": [
              "array([0., 0., 0., 0., 0., 0., 0., 0., 0., 0., 0., 0., 0., 0., 0., 0., 0.,\n",
              "       0., 0., 0., 0., 0., 0., 0., 0., 0., 0., 0., 0., 0., 0., 0., 0., 0.,\n",
              "       0., 0., 0., 0., 0., 0., 0., 0., 0., 0., 0., 0., 0., 0., 0., 0., 0.,\n",
              "       0., 0., 0., 0., 0., 0., 0., 0., 0., 0., 0., 0., 0., 0., 0., 0., 0.,\n",
              "       0., 0., 0., 0., 0., 0., 0., 0., 0., 0., 0., 0., 0., 0., 0., 0., 0.,\n",
              "       0., 0., 0., 0., 0., 0., 0., 0., 0., 0., 0., 0., 0., 0., 0., 0., 0.,\n",
              "       0., 0., 0., 0., 0., 0., 0., 0., 0., 0., 0., 0., 0., 0., 0., 0., 0.,\n",
              "       0., 0., 0., 0., 0., 0., 0., 0., 0., 0., 0., 0., 0., 0., 0., 0., 0.,\n",
              "       0., 0., 0., 0., 0., 0., 0., 0., 0., 0., 0., 0., 0., 0., 0., 0., 0.,\n",
              "       0., 0., 0., 0., 0., 0., 0., 0., 0., 0., 0., 0., 0., 0., 0., 0., 0.,\n",
              "       0., 0., 0., 0., 0., 0., 0., 0., 0., 0., 0., 0., 0., 0., 0., 0., 0.,\n",
              "       0., 0., 0., 0., 0., 0., 0., 0., 0., 0., 0., 0., 0., 0., 0., 0., 0.,\n",
              "       0., 0., 0., 0., 0., 0., 0., 0., 0., 0., 0., 0., 0., 0., 0., 0., 0.,\n",
              "       0., 0., 0., 0., 0., 0., 0., 0., 0., 0., 0., 0., 0., 0., 0., 0., 0.,\n",
              "       0., 0., 0., 0., 0., 0., 0., 0., 0., 0., 0., 0., 0., 0., 0., 0., 0.,\n",
              "       0., 0., 0., 0., 0., 0., 0., 0., 0., 0., 0., 0., 0., 0., 0., 0., 0.,\n",
              "       0., 0., 0., 0., 0., 0., 0., 0., 0., 0., 0., 0., 0., 0., 0., 0., 0.,\n",
              "       0., 0., 0., 0., 0., 0., 0., 0., 0., 0., 0.], dtype=float32)"
            ]
          },
          "metadata": {},
          "execution_count": 49
        }
      ]
    },
    {
      "cell_type": "code",
      "source": [
        "biases.shape"
      ],
      "metadata": {
        "colab": {
          "base_uri": "https://localhost:8080/"
        },
        "id": "zatNdEtsz3Vx",
        "outputId": "cce66e4e-50ec-4c26-9224-74dbcdf41b7d"
      },
      "execution_count": 50,
      "outputs": [
        {
          "output_type": "execute_result",
          "data": {
            "text/plain": [
              "(300,)"
            ]
          },
          "metadata": {},
          "execution_count": 50
        }
      ]
    },
    {
      "cell_type": "markdown",
      "source": [
        "Compile method to specify the loss function and the optimizer to use"
      ],
      "metadata": {
        "id": "9rw0b0eQ4O6q"
      }
    },
    {
      "cell_type": "code",
      "source": [
        "model.compile(loss='sparse_categorical_crossentropy',\n",
        "              optimizer='sgd',\n",
        "              metrics=['accuracy'])"
      ],
      "metadata": {
        "id": "lm1oSo8zz6Wx"
      },
      "execution_count": 51,
      "outputs": []
    },
    {
      "cell_type": "markdown",
      "source": [
        "model is ready for training"
      ],
      "metadata": {
        "id": "sqAIvSM441Ux"
      }
    },
    {
      "cell_type": "code",
      "source": [
        "history = model.fit(x_train, y_train, epochs=30,\n",
        "                    validation_data=(x_valid,y_valid))"
      ],
      "metadata": {
        "colab": {
          "base_uri": "https://localhost:8080/"
        },
        "id": "HKqAU6ow4aBv",
        "outputId": "9d0e40cd-66cf-45bd-f2bc-b12aa82f47ed"
      },
      "execution_count": 52,
      "outputs": [
        {
          "output_type": "stream",
          "name": "stdout",
          "text": [
            "Epoch 1/30\n",
            "1719/1719 [==============================] - 6s 3ms/step - loss: 0.6997 - accuracy: 0.7682 - val_loss: 0.5203 - val_accuracy: 0.8178\n",
            "Epoch 2/30\n",
            "1719/1719 [==============================] - 6s 3ms/step - loss: 0.4847 - accuracy: 0.8314 - val_loss: 0.4342 - val_accuracy: 0.8542\n",
            "Epoch 3/30\n",
            "1719/1719 [==============================] - 5s 3ms/step - loss: 0.4420 - accuracy: 0.8442 - val_loss: 0.4313 - val_accuracy: 0.8526\n",
            "Epoch 4/30\n",
            "1719/1719 [==============================] - 6s 3ms/step - loss: 0.4150 - accuracy: 0.8537 - val_loss: 0.3941 - val_accuracy: 0.8660\n",
            "Epoch 5/30\n",
            "1719/1719 [==============================] - 6s 3ms/step - loss: 0.3958 - accuracy: 0.8605 - val_loss: 0.3976 - val_accuracy: 0.8608\n",
            "Epoch 6/30\n",
            "1719/1719 [==============================] - 6s 3ms/step - loss: 0.3790 - accuracy: 0.8646 - val_loss: 0.3743 - val_accuracy: 0.8712\n",
            "Epoch 7/30\n",
            "1719/1719 [==============================] - 6s 3ms/step - loss: 0.3658 - accuracy: 0.8701 - val_loss: 0.4057 - val_accuracy: 0.8526\n",
            "Epoch 8/30\n",
            "1719/1719 [==============================] - 6s 3ms/step - loss: 0.3539 - accuracy: 0.8733 - val_loss: 0.3509 - val_accuracy: 0.8764\n",
            "Epoch 9/30\n",
            "1719/1719 [==============================] - 6s 3ms/step - loss: 0.3436 - accuracy: 0.8779 - val_loss: 0.3736 - val_accuracy: 0.8674\n",
            "Epoch 10/30\n",
            "1719/1719 [==============================] - 5s 3ms/step - loss: 0.3354 - accuracy: 0.8800 - val_loss: 0.3445 - val_accuracy: 0.8780\n",
            "Epoch 11/30\n",
            "1719/1719 [==============================] - 6s 3ms/step - loss: 0.3257 - accuracy: 0.8824 - val_loss: 0.3360 - val_accuracy: 0.8782\n",
            "Epoch 12/30\n",
            "1719/1719 [==============================] - 6s 3ms/step - loss: 0.3195 - accuracy: 0.8855 - val_loss: 0.3333 - val_accuracy: 0.8802\n",
            "Epoch 13/30\n",
            "1719/1719 [==============================] - 5s 3ms/step - loss: 0.3120 - accuracy: 0.8886 - val_loss: 0.3496 - val_accuracy: 0.8758\n",
            "Epoch 14/30\n",
            "1719/1719 [==============================] - 6s 3ms/step - loss: 0.3050 - accuracy: 0.8909 - val_loss: 0.3250 - val_accuracy: 0.8846\n",
            "Epoch 15/30\n",
            "1719/1719 [==============================] - 6s 3ms/step - loss: 0.2979 - accuracy: 0.8928 - val_loss: 0.3517 - val_accuracy: 0.8742\n",
            "Epoch 16/30\n",
            "1719/1719 [==============================] - 6s 3ms/step - loss: 0.2932 - accuracy: 0.8943 - val_loss: 0.3310 - val_accuracy: 0.8816\n",
            "Epoch 17/30\n",
            "1719/1719 [==============================] - 6s 3ms/step - loss: 0.2866 - accuracy: 0.8973 - val_loss: 0.3151 - val_accuracy: 0.8844\n",
            "Epoch 18/30\n",
            "1719/1719 [==============================] - 6s 3ms/step - loss: 0.2810 - accuracy: 0.8995 - val_loss: 0.3107 - val_accuracy: 0.8878\n",
            "Epoch 19/30\n",
            "1719/1719 [==============================] - 6s 3ms/step - loss: 0.2769 - accuracy: 0.9006 - val_loss: 0.3082 - val_accuracy: 0.8880\n",
            "Epoch 20/30\n",
            "1719/1719 [==============================] - 6s 3ms/step - loss: 0.2711 - accuracy: 0.9018 - val_loss: 0.3143 - val_accuracy: 0.8842\n",
            "Epoch 21/30\n",
            "1719/1719 [==============================] - 5s 3ms/step - loss: 0.2659 - accuracy: 0.9051 - val_loss: 0.3327 - val_accuracy: 0.8782\n",
            "Epoch 22/30\n",
            "1719/1719 [==============================] - 5s 3ms/step - loss: 0.2624 - accuracy: 0.9056 - val_loss: 0.3218 - val_accuracy: 0.8798\n",
            "Epoch 23/30\n",
            "1719/1719 [==============================] - 6s 3ms/step - loss: 0.2576 - accuracy: 0.9079 - val_loss: 0.3065 - val_accuracy: 0.8902\n",
            "Epoch 24/30\n",
            "1719/1719 [==============================] - 6s 3ms/step - loss: 0.2537 - accuracy: 0.9079 - val_loss: 0.3148 - val_accuracy: 0.8864\n",
            "Epoch 25/30\n",
            "1719/1719 [==============================] - 6s 3ms/step - loss: 0.2484 - accuracy: 0.9113 - val_loss: 0.3099 - val_accuracy: 0.8860\n",
            "Epoch 26/30\n",
            "1719/1719 [==============================] - 6s 3ms/step - loss: 0.2449 - accuracy: 0.9115 - val_loss: 0.3121 - val_accuracy: 0.8854\n",
            "Epoch 27/30\n",
            "1719/1719 [==============================] - 6s 3ms/step - loss: 0.2408 - accuracy: 0.9122 - val_loss: 0.3072 - val_accuracy: 0.8904\n",
            "Epoch 28/30\n",
            "1719/1719 [==============================] - 6s 3ms/step - loss: 0.2365 - accuracy: 0.9150 - val_loss: 0.2914 - val_accuracy: 0.8940\n",
            "Epoch 29/30\n",
            "1719/1719 [==============================] - 6s 3ms/step - loss: 0.2329 - accuracy: 0.9160 - val_loss: 0.3008 - val_accuracy: 0.8932\n",
            "Epoch 30/30\n",
            "1719/1719 [==============================] - 6s 3ms/step - loss: 0.2291 - accuracy: 0.9175 - val_loss: 0.3163 - val_accuracy: 0.8866\n"
          ]
        }
      ]
    },
    {
      "cell_type": "code",
      "source": [
        "import pandas as pd\n",
        "import matplotlib.pyplot as plt\n",
        "\n",
        "pd.DataFrame(history.history).plot(figsize=(8,5))\n",
        "plt.grid(True)\n",
        "plt.gca().set_ylim(0,1)\n",
        "plt.show()\n",
        "\n"
      ],
      "metadata": {
        "colab": {
          "base_uri": "https://localhost:8080/",
          "height": 324
        },
        "id": "ypipADvn5Kty",
        "outputId": "b89a3bee-444e-4ea7-a04d-7a28d130576a"
      },
      "execution_count": 53,
      "outputs": [
        {
          "output_type": "display_data",
          "data": {
            "text/plain": [
              "<Figure size 576x360 with 1 Axes>"
            ],
            "image/png": "[encoded data removed]"
          },
          "metadata": {
            "needs_background": "light"
          }
        }
      ]
    },
    {
      "cell_type": "code",
      "source": [
        ""
      ],
      "metadata": {
        "id": "GxAHo_fr6w1b"
      },
      "execution_count": null,
      "outputs": []
    }
  ]
}